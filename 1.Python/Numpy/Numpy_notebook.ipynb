import numpy as np


z=np.array([[1,2,3],[4,5,6],[7,8,9]])
z.shape
a=np.array(range(10))#starts from 0 ends 9 +1
b=np.array(range(1,10)) #starts from 1 ends 9 +1
c=np.array(range(1,10,2)) #starts from 1 ends 9 +2
d=c=np.array([range(1,10,2),range(11,20,2)])
d.shape#(2,5)
d.reshape(10).shape
d.reshape(2,2)
